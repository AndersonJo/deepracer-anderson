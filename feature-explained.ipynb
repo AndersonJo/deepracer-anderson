{
 "cells": [
  {
   "cell_type": "code",
   "execution_count": 1,
   "metadata": {},
   "outputs": [
    {
     "name": "stdout",
     "output_type": "stream",
     "text": [
      "Populating the interactive namespace from numpy and matplotlib\n"
     ]
    }
   ],
   "source": [
    "%pylab inline\n",
    "import numpy as np\n",
    "from numpy import array\n",
    "import seaborn as sns"
   ]
  },
  {
   "cell_type": "markdown",
   "metadata": {},
   "source": [
    "# Introduction \n",
    "\n",
    "feature들을 설명합니다.\n",
    "\n",
    "https://docs.aws.amazon.com/deepracer/latest/developerguide/deepracer-train-models-define-reward-function.html"
   ]
  },
  {
   "cell_type": "markdown",
   "metadata": {},
   "source": [
    "# closest_waypoint\n",
    "\n",
    "The zero-based index of the closest waypoint relative to the vehicle's x and y positions as measured by the Euclidean distance:\n",
    "\n",
    "```\n",
    "argmini(..., (xw,i-x)2+(y-yw,i-y)2,...)\n",
    "```\n",
    "The closest waypoint can be in front of the vehicle or behind it.\n",
    "\n",
    "Range...\n",
    "\n",
    "```\n",
    "[0, number of waypoints -1]\n",
    "```\n",
    "\n",
    "그냥 정수값이다. \n",
    "현재 자동차의 위치에서 가장 가까운 waypoints의 index번호라고 생각하면 쉽다\n"
   ]
  },
  {
   "cell_type": "code",
   "execution_count": 36,
   "metadata": {},
   "outputs": [
    {
     "name": "stdout",
     "output_type": "stream",
     "text": [
      "closest_waypoints: 18\n",
      "waypoint: [4.  2.1]\n"
     ]
    }
   ],
   "source": [
    "# 현재 자동차의 waypoints상에서의 인덱스 위치\n",
    "closest_waypoint = 18\n",
    "\n",
    "print('closest_waypoints:', closest_waypoint)\n",
    "print('waypoint:', waypoints[closest_waypoint])"
   ]
  },
  {
   "cell_type": "markdown",
   "metadata": {},
   "source": [
    "# waypoints\n",
    "\n",
    "An ordered list of waypoints following the vehicle's progress along the track.\n",
    "\n",
    "```\n",
    "[(xw,1,yw,1), (xw,2, yw,2), …]\n",
    "```"
   ]
  },
  {
   "cell_type": "code",
   "execution_count": 33,
   "metadata": {},
   "outputs": [
    {
     "name": "stdout",
     "output_type": "stream",
     "text": [
      "waypoints: (30, 2)\n"
     ]
    },
    {
     "data": {
      "image/png": "[encoded data removed]",
      "text/plain": [
       "<Figure size 1080x720 with 1 Axes>"
      ]
     },
     "metadata": {
      "needs_background": "light"
     },
     "output_type": "display_data"
    }
   ],
   "source": [
    "# waypoints는 아래의 값을 고정적으로 계속 갖고 있는다. \n",
    "waypoints = np.array([array([ 1.5 , 0.58]), array([ 5.5 , 0.58]), array([ 5.6, 0.6]), array([ 5.7 , 0.65]), \n",
    "               array([ 5.8, 0.7]), array([ 5.9, 0.8]), array([ 6. , 0.9]), array([ 6.08, 1.1 ]), \n",
    "               array([ 6.1, 1.2]), array([ 6.1, 1.3]), array([ 6.1, 1.4]), array([ 6.07, 1.5 ]), \n",
    "               array([ 6.05, 1.6 ]), array([ 6. , 1.7]), array([ 5.9, 1.8]), array([ 5.75, 1.9 ]), \n",
    "               array([ 5.6, 2. ]), array([ 4.2 , 2.02]), array([ 4. , 2.1]), array([ 2.6 , 3.92]), \n",
    "               array([ 2.4, 4. ]), array([ 1.2 , 3.95]), array([ 1.1 , 3.92]), array([ 1. , 3.88]), \n",
    "               array([ 0.8 , 3.72]), array([ 0.6, 3.4]), array([ 0.58, 3.3 ]), array([ 0.57, 3.2 ]), \n",
    "               array([ 1., 1.]), array([ 1.25, 0.7 ])])\n",
    "\n",
    "\n",
    "fig, plots = subplots(1, figsize=(15, 10))\n",
    "ax = sns.scatterplot(waypoints[:,0], waypoints[:, 1], ax=plots)\n",
    "for i, (x, y) in enumerate(waypoints):\n",
    "    ax.text(x+.02, y, str(i))\n",
    "    \n",
    "print('waypoints:', waypoints.shape)"
   ]
  },
  {
   "cell_type": "markdown",
   "metadata": {},
   "source": [
    "### 다음 waypoint 가져오기\n",
    "\n",
    "아래 코드를 그대로 가져다가 사용하면 됩니다."
   ]
  },
  {
   "cell_type": "code",
   "execution_count": 82,
   "metadata": {},
   "outputs": [
    {
     "name": "stdout",
     "output_type": "stream",
     "text": [
      "current waypoint index: 15\n",
      "next waypoint index   : 16\n",
      "current waypoint      : [5.75 1.9 ]\n",
      "next waypoint         : [5.6 2. ]\n",
      "[-0.15  0.1 ]\n"
     ]
    }
   ],
   "source": [
    "closest_waypoint = 15\n",
    "\n",
    "\n",
    "next_index = closest_waypoint + 1\n",
    "if next_index >= len(waypoints) -1:\n",
    "    next_index = 0 \n",
    "\n",
    "current_waypoint = waypoints[closest_waypoint]\n",
    "next_waypoint = waypoints[next_index]\n",
    "\n",
    "print('current waypoint index:', closest_waypoint)\n",
    "print('next waypoint index   :', next_index)\n",
    "print('current waypoint      :', current_waypoint)\n",
    "print('next waypoint         :', next_waypoint)\n",
    "print( (next_waypoint - current_waypoint) )"
   ]
  },
  {
   "cell_type": "markdown",
   "metadata": {},
   "source": [
    "# ETC"
   ]
  },
  {
   "cell_type": "markdown",
   "metadata": {},
   "source": [
    "## 초기 시작시 distance from center가 0이 되는 y축 좌표\n",
    "\n",
    "y = 0.58 일때 distance_from_center는 0값이 된다<br>\n",
    "\n",
    "```\n",
    "[Anderson][04] on_track:True | xy:2.63,0.58 | dist:0.0 | progress:0.0 | steps:26 | throttle:0.8 | st:-0.8 | width:0.44 | cur_wp:0 0 -> 1 [ 5.5 0.58] | car_orientation:0 | Reward: 0.11\n",
    "```"
   ]
  },
  {
   "cell_type": "code",
   "execution_count": null,
   "metadata": {},
   "outputs": [],
   "source": []
  }
 ],
 "metadata": {
  "kernelspec": {
   "display_name": "Python 3",
   "language": "python",
   "name": "python3"
  },
  "language_info": {
   "codemirror_mode": {
    "name": "ipython",
    "version": 3
   },
   "file_extension": ".py",
   "mimetype": "text/x-python",
   "name": "python",
   "nbconvert_exporter": "python",
   "pygments_lexer": "ipython3",
   "version": "3.7.1"
  }
 },
 "nbformat": 4,
 "nbformat_minor": 2
}
